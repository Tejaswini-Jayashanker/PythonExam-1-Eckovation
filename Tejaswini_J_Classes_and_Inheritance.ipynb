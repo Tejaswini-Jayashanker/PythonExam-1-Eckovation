{
 "cells": [
  {
   "cell_type": "code",
   "execution_count": 1,
   "metadata": {},
   "outputs": [
    {
     "data": {
      "text/plain": [
       "'\\nQuestion - 1:\\na. Write a class circle that calculates the area and perimeter of a circle of given radius.\\nb. Extend the circle class to calculate area of sector of circle, use inheritance to solve this.\\n'"
      ]
     },
     "execution_count": 1,
     "metadata": {},
     "output_type": "execute_result"
    }
   ],
   "source": [
    "'''\n",
    "Question - 1:\n",
    "a. Write a class circle that calculates the area and perimeter of a circle of given radius.\n",
    "b. Extend the circle class to calculate area of sector of circle, use inheritance to solve this.\n",
    "'''"
   ]
  },
  {
   "cell_type": "code",
   "execution_count": 15,
   "metadata": {},
   "outputs": [
    {
     "name": "stdout",
     "output_type": "stream",
     "text": [
      "Enter the radius of the circle: 10\n",
      "The Area of the circle with radius 10.0 is:  314.0\n",
      "The Perimeter of the circle with radius 10.0 is:  62.800000000000004\n"
     ]
    }
   ],
   "source": [
    "#Solution to Question - 1.a\n",
    "class Circle():\n",
    "    def __init__(self, radius_in):\n",
    "        self.radius = radius_in\n",
    "\n",
    "    def area(self):\n",
    "        return self.radius**2*3.14\n",
    "\n",
    "    def perimeter(self):\n",
    "        return 2*self.radius*3.14\n",
    "\n",
    "rad = float(input(\"Enter the radius of the circle: \"))\n",
    "\n",
    "circle_obj = Circle(rad)\n",
    "cir_area = circle_obj.area()\n",
    "cir_per = circle_obj.perimeter()\n",
    "print(\"The Area of the circle with radius\",rad,\"is: \",cir_area)\n",
    "print(\"The Perimeter of the circle with radius\",rad,\"is: \",cir_per)"
   ]
  },
  {
   "cell_type": "code",
   "execution_count": 38,
   "metadata": {},
   "outputs": [
    {
     "name": "stdout",
     "output_type": "stream",
     "text": [
      "200.96\n",
      "Sector Area:  33.49333333333333\n"
     ]
    }
   ],
   "source": [
    "#solution to Question 1.b\n",
    "class Sector(Circle):\n",
    "    def __init__(self, radius, angle):\n",
    "        self.angle = angle\n",
    "        super().__init__(radius)\n",
    "\n",
    "    def area_sec(self,area_cir):\n",
    "        if self.angle >= 360:\n",
    "            print(\"Angle is not possible\")\n",
    "            return\n",
    "        else:\n",
    "            print(area_cir)\n",
    "            sec_area = area_cir*(self.angle/360)\n",
    "            print(\"Sector Area: \", sec_area)\n",
    "sec_cir = Sector(8,60)\n",
    "cir_area = sec_cir.area()\n",
    "sec_cir.area_sec(cir_area)"
   ]
  },
  {
   "cell_type": "code",
   "execution_count": null,
   "metadata": {},
   "outputs": [],
   "source": []
  }
 ],
 "metadata": {
  "kernelspec": {
   "display_name": "Python 3",
   "language": "python",
   "name": "python3"
  },
  "language_info": {
   "codemirror_mode": {
    "name": "ipython",
    "version": 3
   },
   "file_extension": ".py",
   "mimetype": "text/x-python",
   "name": "python",
   "nbconvert_exporter": "python",
   "pygments_lexer": "ipython3",
   "version": "3.6.12"
  }
 },
 "nbformat": 4,
 "nbformat_minor": 4
}
