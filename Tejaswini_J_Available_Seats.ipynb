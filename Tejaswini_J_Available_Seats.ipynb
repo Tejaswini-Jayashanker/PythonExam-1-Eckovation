{
 "cells": [
  {
   "cell_type": "code",
   "execution_count": 1,
   "metadata": {},
   "outputs": [
    {
     "data": {
      "text/plain": [
       "'\\nGiven the number of rows (r) and the number of columns (c), create an array room to represent r x c,\\nnumber of seats in a cinema hall. 1 Marks\\nb) Write a function to output the total number of empty seats in the cinema. \\nAlso, output the seat number (row and column number) of available seats. 2 + 4 Marks\\nc) Write a function to take user input for the seat he would like to book. 1 Marks\\nd) Now add a unique password, such as “pass1234” to reset the cinema room condition whenever it is entered.\\nFor example: if r=4, c= 2 and available seats are 3 out of total 8 seats, \\nentering the password should make all the seats available\\n'"
      ]
     },
     "execution_count": 1,
     "metadata": {},
     "output_type": "execute_result"
    }
   ],
   "source": [
    "'''\n",
    "Given the number of rows (r) and the number of columns (c), create an array room to represent r x c,\n",
    "number of seats in a cinema hall. 1 Marks\n",
    "b) Write a function to output the total number of empty seats in the cinema. \n",
    "Also, output the seat number (row and column number) of available seats. 2 + 4 Marks\n",
    "c) Write a function to take user input for the seat he would like to book. 1 Marks\n",
    "d) Now add a unique password, such as “pass1234” to reset the cinema room condition whenever it is entered.\n",
    "For example: if r=4, c= 2 and available seats are 3 out of total 8 seats, \n",
    "entering the password should make all the seats available\n",
    "'''"
   ]
  },
  {
   "cell_type": "code",
   "execution_count": 2,
   "metadata": {},
   "outputs": [],
   "source": [
    "import numpy as np"
   ]
  },
  {
   "cell_type": "code",
   "execution_count": 4,
   "metadata": {},
   "outputs": [
    {
     "name": "stdout",
     "output_type": "stream",
     "text": [
      "Enter number of Rows: 5\n",
      "Enter number of Columns: 5\n"
     ]
    }
   ],
   "source": [
    "#Solution for creating an array\n",
    "\n",
    "#Take input rows and columns\n",
    "rows = int( input(\"Enter number of Rows: \") )\n",
    "columns = int( input(\"Enter number of Columns: \") )\n",
    "\n",
    "#Create an array of rows x Columns dimension.\n",
    "cinema_hall_seats = np.zeros((rows,columns))"
   ]
  },
  {
   "cell_type": "code",
   "execution_count": 5,
   "metadata": {},
   "outputs": [
    {
     "name": "stdout",
     "output_type": "stream",
     "text": [
      "Total Number of Seats:  25\n",
      "Number of Available Seats:  25\n",
      "Available Seats are:  [(0, 0), (0, 1), (0, 2), (0, 3), (0, 4), (1, 0), (1, 1), (1, 2), (1, 3), (1, 4), (2, 0), (2, 1), (2, 2), (2, 3), (2, 4), (3, 0), (3, 1), (3, 2), (3, 3), (3, 4), (4, 0), (4, 1), (4, 2), (4, 3), (4, 4)]\n"
     ]
    }
   ],
   "source": [
    "#Solution for b. Return available Seats\n",
    "def total_avail_seats(rows,columns):\n",
    "    total_seats = rows*columns\n",
    "    print(\"Total Number of Seats: \", total_seats)\n",
    "    rows,columns = np.where(cinema_hall_seats == 0)\n",
    "    avail_seats = list(zip(rows,columns))\n",
    "    print(\"Number of Available Seats: \",len(avail_seats))\n",
    "    print(\"Available Seats are: \",avail_seats)\n",
    "    return avail_seats\n",
    "seats_empty = total_avail_seats(rows,columns)"
   ]
  },
  {
   "cell_type": "code",
   "execution_count": 6,
   "metadata": {},
   "outputs": [
    {
     "name": "stdout",
     "output_type": "stream",
     "text": [
      "Seat number: 2,3\n",
      "Total Number of Seats:  25\n",
      "Number of Available Seats:  24\n",
      "Available Seats are:  [(0, 0), (0, 1), (0, 2), (0, 3), (0, 4), (1, 0), (1, 1), (1, 2), (1, 3), (1, 4), (2, 0), (2, 1), (2, 2), (2, 4), (3, 0), (3, 1), (3, 2), (3, 3), (3, 4), (4, 0), (4, 1), (4, 2), (4, 3), (4, 4)]\n"
     ]
    }
   ],
   "source": [
    "#Solution to c. Booking the seat.\n",
    "def booking_seats():\n",
    "    coord = input(\"Seat number: \")\n",
    "    row,col = coord.split(\",\")\n",
    "    row = int(row)\n",
    "    col = int(col)\n",
    "    if (row,col) in seats_empty:\n",
    "        cinema_hall_seats[row,col] = 1\n",
    "        total_avail_seats(rows,columns)\n",
    "booking_seats()"
   ]
  },
  {
   "cell_type": "code",
   "execution_count": 7,
   "metadata": {},
   "outputs": [],
   "source": [
    "#Solution to d. Unique_Password.\n",
    "def admin_password():\n",
    "    master_password = input(\"Enter the Password: \")\n",
    "    return master_password\n",
    "\n",
    "def reset_cinema_hall(mas_pass):\n",
    "    password = input(\"Enter a Password\")\n",
    "    if(password == mas_pass ):\n",
    "        cinema_hall_seats.fill(0)\n",
    "        total_avail_seats(rows,columns)\n",
    "    else:\n",
    "        print(\"Incorrect Password.\")\n",
    "        total_avail_seats(rows,columns)"
   ]
  },
  {
   "cell_type": "code",
   "execution_count": 8,
   "metadata": {},
   "outputs": [
    {
     "name": "stdout",
     "output_type": "stream",
     "text": [
      "Enter the Password: Tejaswini\n",
      "Enter a PasswordTony Stark\n",
      "Incorrect Password.\n",
      "Total Number of Seats:  25\n",
      "Number of Available Seats:  24\n",
      "Available Seats are:  [(0, 0), (0, 1), (0, 2), (0, 3), (0, 4), (1, 0), (1, 1), (1, 2), (1, 3), (1, 4), (2, 0), (2, 1), (2, 2), (2, 4), (3, 0), (3, 1), (3, 2), (3, 3), (3, 4), (4, 0), (4, 1), (4, 2), (4, 3), (4, 4)]\n"
     ]
    }
   ],
   "source": [
    "uniq_password = admin_password()\n",
    "reset_cinema_hall(uniq_password)"
   ]
  },
  {
   "cell_type": "code",
   "execution_count": 10,
   "metadata": {},
   "outputs": [
    {
     "name": "stdout",
     "output_type": "stream",
     "text": [
      "Enter the Password: Tejaswini\n",
      "Enter a PasswordTejaswini\n",
      "Total Number of Seats:  25\n",
      "Number of Available Seats:  25\n",
      "Available Seats are:  [(0, 0), (0, 1), (0, 2), (0, 3), (0, 4), (1, 0), (1, 1), (1, 2), (1, 3), (1, 4), (2, 0), (2, 1), (2, 2), (2, 3), (2, 4), (3, 0), (3, 1), (3, 2), (3, 3), (3, 4), (4, 0), (4, 1), (4, 2), (4, 3), (4, 4)]\n"
     ]
    }
   ],
   "source": [
    "uniq_password = admin_password()\n",
    "reset_cinema_hall(uniq_password)"
   ]
  },
  {
   "cell_type": "code",
   "execution_count": null,
   "metadata": {},
   "outputs": [],
   "source": []
  }
 ],
 "metadata": {
  "kernelspec": {
   "display_name": "Python 3",
   "language": "python",
   "name": "python3"
  },
  "language_info": {
   "codemirror_mode": {
    "name": "ipython",
    "version": 3
   },
   "file_extension": ".py",
   "mimetype": "text/x-python",
   "name": "python",
   "nbconvert_exporter": "python",
   "pygments_lexer": "ipython3",
   "version": "3.6.12"
  }
 },
 "nbformat": 4,
 "nbformat_minor": 4
}
